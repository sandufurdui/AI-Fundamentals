{
  "cells": [
    {
      "cell_type": "markdown",
      "id": "7d252a8d",
      "metadata": {
        "id": "7d252a8d"
      },
      "source": [
        "# FAF.FIA16.1 -- Artificial Intelligence Fundamentals\n",
        "\n",
        "> **Lab 3:** Linear Regression \\\\\n",
        "> **Performed by:** Furdui Alexandru, group FAF-192 \\\\\n",
        "> **Verified by:** Mihail Gavrilita, asist. univ.\n",
        "\n",
        "\n",
        "\n"
      ]
    },
    {
      "cell_type": "markdown",
      "id": "BPiGwyyGNsHh",
      "metadata": {
        "id": "BPiGwyyGNsHh"
      },
      "source": [
        "## Imports and Utils"
      ]
    },
    {
      "cell_type": "code",
      "execution_count": 3,
      "id": "533fd9fa",
      "metadata": {
        "ExecuteTime": {
          "end_time": "2022-01-23T09:47:05.838671Z",
          "start_time": "2022-01-23T09:47:05.834860Z"
        },
        "id": "533fd9fa"
      },
      "outputs": [],
      "source": [
        "import pandas as pd\n",
        "import numpy as np\n",
        "from sklearn.model_selection import train_test_split\n",
        "from sklearn.linear_model import LinearRegression\n",
        "from sklearn.metrics import mean_squared_error\n",
        "from sklearn.linear_model import Ridge"
      ]
    },
    {
      "cell_type": "markdown",
      "id": "7146ed9b",
      "metadata": {
        "id": "7146ed9b"
      },
      "source": [
        "## Task 1 -- Import your data. Analyze it via common statistical approaches. Cleanse the data if necessary."
      ]
    },
    {
      "cell_type": "code",
      "execution_count": null,
      "id": "6531cedd",
      "metadata": {
        "ExecuteTime": {
          "end_time": "2022-01-23T09:47:15.094380Z",
          "start_time": "2022-01-23T09:47:15.090135Z"
        },
        "id": "6531cedd"
      },
      "outputs": [],
      "source": [
        "#convert txt to csv\n",
        "read_file = pd.read_csv ('apartmentComplexData.txt')\n",
        "read_file.to_csv ('apartmentComplexData.csv', index=None)\n",
        "\n",
        "df = pd.read_csv('apartmentComplexData.csv', usecols=[2, 3, 4, 5, 6, 8])\n",
        "\n",
        "#rename columns\n",
        "df.columns = ['complexAge', 'totalRooms', 'totalBedrooms', 'complexInhabitants', 'apartmentsNr', 'medianCompexValue']\n",
        "#replace NaN values with column mean\n",
        "df.fillna(df.mean(), inplace=True)\n"
      ]
    },
    {
      "cell_type": "markdown",
      "id": "0938e3e4",
      "metadata": {
        "id": "0938e3e4"
      },
      "source": [
        "## Task 2 -- Train your model by applying linear regression."
      ]
    },
    {
      "cell_type": "code",
      "execution_count": null,
      "id": "6b0859a4",
      "metadata": {
        "id": "6b0859a4"
      },
      "outputs": [],
      "source": [
        "#split the data into training and testing sets\n",
        "X = df[['complexAge', 'totalRooms', 'totalBedrooms', 'complexInhabitants', 'apartmentsNr']]\n",
        "y = df['medianCompexValue']\n",
        "X_train, X_test, y_train, y_test = train_test_split(X, y, test_size=0.2, random_state=42)\n",
        "\n",
        "#train linear regression model\n",
        "regressor = LinearRegression()\n",
        "regressor.fit(X_train, y_train)\n",
        "\n",
        "#predict the medianCompexValue for the test set\n",
        "regressor_y_pred = regressor.predict(X_test)\n",
        "\n",
        "#calculate rmse\n",
        "mse = mean_squared_error(y_test, regressor_y_pred)\n",
        "rmse = np.sqrt(mse)\n",
        "print('RMSE: ', rmse)\n",
        "#prints: RMSE: 105453.7614875964"
      ]
    },
    {
      "cell_type": "markdown",
      "id": "3f67a3d5",
      "metadata": {
        "id": "3f67a3d5"
      },
      "source": [
        "## Task 3 -- Show the prediction power of your model by attempting to predict the price of a new house"
      ]
    },
    {
      "cell_type": "code",
      "execution_count": null,
      "id": "046623ad",
      "metadata": {
        "id": "046623ad"
      },
      "outputs": [],
      "source": [
        "#apartament to predict values\n",
        "linear_prediction = np.array([[74, 200, 342, 234, 90]])\n",
        "\n",
        "#predicting the apartment using linear regression\n",
        "linear_prediction_median_compex_value = regressor.predict(linear_prediction)\n",
        "\n",
        "print('Predicted medianCompexValue value using linear regression: ', linear_prediction_median_compex_value)\n",
        "#prints: Predicted medianCompexValue value using linear regression: 184830.21801261377"
      ]
    },
    {
      "cell_type": "markdown",
      "id": "8sM65sbNogET",
      "metadata": {
        "id": "8sM65sbNogET"
      },
      "source": [
        "# Task 4 -- Re-train your model. Use Ridge, Lasso or Elastic Net regularization."
      ]
    },
    {
      "cell_type": "code",
      "execution_count": null,
      "id": "MGNu8seIorbv",
      "metadata": {
        "id": "MGNu8seIorbv"
      },
      "outputs": [],
      "source": [
        "rige_regressor = Ridge(alpha=100)\n",
        "rige_regressor.fit(X_train, y_train)\n",
        "\n",
        "#predict using X_test as input \n",
        "ridge_y_pred = rige_regressor.predict(X_test)\n",
        "\n",
        "#calculate rmse for Ridge\n",
        "ridge_mse = mean_squared_error(y_test, ridge_y_pred)\n",
        "ridge_rmse = np.sqrt(ridge_mse)\n",
        "print('RMSE for Ridge:', ridge_rmse)\n",
        "#RMSE for Ridge: 105453.7602732192"
      ]
    },
    {
      "cell_type": "markdown",
      "id": "o7c0HPPpqaJ3",
      "metadata": {
        "id": "o7c0HPPpqaJ3"
      },
      "source": [
        "# Task 5 -- Score and compare the scores of the models you have implemented. Interpret the result."
      ]
    },
    {
      "cell_type": "code",
      "execution_count": null,
      "id": "h8MoLnwrqfMp",
      "metadata": {
        "id": "h8MoLnwrqfMp"
      },
      "outputs": [],
      "source": [
        "#apartament to predict values\n",
        "ridge_prediction = np.array([[74, 200, 342, 234, 90]])\n",
        "\n",
        "#predicting the apartment using Ridge\n",
        "ridge_prediction_median_compex_value = rige_regressor.predict(ridge_prediction)\n",
        "\n",
        "print('Predicted medianCompexValue for the new apartment complex using Ridge: ', ridge_prediction_median_compex_value)\n",
        "#prints: Predicted medianCompexValue value using Ridge regression: 184827.36920557747"
      ]
    },
    {
      "cell_type": "markdown",
      "id": "Wnx_Dc2er2Fi",
      "metadata": {
        "id": "Wnx_Dc2er2Fi"
      },
      "source": [
        "comparing 2 RMSE values for Linear and Ridge regression which is 105453.7614875964 and 105453.7602732192 respectively, we can see that Ridge regression performs sligtly better as the RMSE value is smaller. This means that the predicted apartment value by Ridge regression, is closer to truth"
      ]
    },
    {
      "cell_type": "markdown",
      "id": "0e29d59a",
      "metadata": {
        "id": "0e29d59a"
      },
      "source": [
        "## Conclusions:"
      ]
    },
    {
      "cell_type": "markdown",
      "id": "3cclcyPqeSFL",
      "metadata": {
        "id": "3cclcyPqeSFL"
      },
      "source": [
        "Concluding, i can say that even if the Ridge regression performed a bit better, it did not make a very big difference from Linear regression prediction. This is mostly because the dataset is very large or because the alpha value for the Ridge regression is not set to this dataset(i tried my best to choose the most appropriate value)"
      ]
    },
    {
      "cell_type": "markdown",
      "id": "rTJNie6deHsg",
      "metadata": {
        "id": "rTJNie6deHsg"
      },
      "source": [
        "## Bibliography:"
      ]
    },
    {
      "cell_type": "markdown",
      "id": "gUxrDWvseZie",
      "metadata": {
        "id": "gUxrDWvseZie"
      },
      "source": [
        "https://datatofish.com/convert-text-file-to-csv-using-python-tool-included/ -- Convert from text to csv\n",
        "\n",
        "https://www.javatpoint.com/rsme-root-mean-square-error-in-python -- What is rmse and how to calculate it\n",
        "\n",
        "https://realpython.com/linear-regression-in-python/ -- How to implement linear regresion model\n",
        "\n",
        "https://machinelearningmastery.com/ridge-regression-with-python/ -- How to implement ridge regression model"
      ]
    }
  ],
  "metadata": {
    "colab": {
      "provenance": []
    },
    "kernelspec": {
      "display_name": "Python 3",
      "language": "python",
      "name": "python3"
    },
    "language_info": {
      "codemirror_mode": {
        "name": "ipython",
        "version": 3
      },
      "file_extension": ".py",
      "mimetype": "text/x-python",
      "name": "python",
      "nbconvert_exporter": "python",
      "pygments_lexer": "ipython3",
      "version": "3.9.6 (default, Oct 18 2022, 12:41:40) \n[Clang 14.0.0 (clang-1400.0.29.202)]"
    },
    "toc": {
      "base_numbering": 1,
      "nav_menu": {},
      "number_sections": true,
      "sideBar": true,
      "skip_h1_title": false,
      "title_cell": "Table of Contents",
      "title_sidebar": "Contents",
      "toc_cell": false,
      "toc_position": {},
      "toc_section_display": true,
      "toc_window_display": false
    },
    "vscode": {
      "interpreter": {
        "hash": "31f2aee4e71d21fbe5cf8b01ff0e069b9275f58929596ceb00d14d90e3e16cd6"
      }
    }
  },
  "nbformat": 4,
  "nbformat_minor": 5
}
